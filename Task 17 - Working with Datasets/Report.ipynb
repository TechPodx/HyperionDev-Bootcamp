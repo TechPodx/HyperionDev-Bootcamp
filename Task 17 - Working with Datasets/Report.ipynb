{
 "cells": [
  {
   "cell_type": "code",
   "execution_count": 1,
   "metadata": {
    "id": "h0LVvvnfJsg5"
   },
   "outputs": [],
   "source": [
    "# Import pandas\n",
    "import pandas as pd"
   ]
  },
  {
   "cell_type": "code",
   "execution_count": 3,
   "metadata": {
    "id": "rv2oLRnPK36J"
   },
   "outputs": [],
   "source": [
    "# Create a DataFrame with balance.txt\n",
    "df = pd.read_csv(\"balance.txt\" , sep = \" \")"
   ]
  },
  {
   "cell_type": "markdown",
   "metadata": {
    "id": "_LXpBJXZLYoh"
   },
   "source": [
    "Write the code needed to produce a report that provides the following information:\n",
    "* Compare the average income based on ethnicity. \n",
    "* On average, do married or single people have a higher balance?\n",
    "* What is the highest income in our dataset?\n",
    "* What is the lowest income in our dataset?\n",
    "* How many cards do we have recorded in our dataset? (Hint: use `sum()`)\n",
    "* How many females do we have information for vs how many males? (Hint: use `count()`For a list of all methods for computation of descriptive stats, explore the [pandas documentation](https://pandas.pydata.org/pandas-docs/stable/reference/frame.html#computations-descriptive-stats)). \n",
    "\n",
    "\n"
   ]
  },
  {
   "cell_type": "code",
   "execution_count": 4,
   "metadata": {},
   "outputs": [
    {
     "data": {
      "text/plain": [
       "Ethnicity\n",
       "African American    47.682101\n",
       "Asian               44.187833\n",
       "Caucasian           44.521945\n",
       "Name: Income, dtype: float64"
      ]
     },
     "execution_count": 4,
     "metadata": {},
     "output_type": "execute_result"
    }
   ],
   "source": [
    "# Compare the average income based on ethnicity.\n",
    "\n",
    "df.groupby(\"Ethnicity\")[\"Income\"].mean()"
   ]
  },
  {
   "cell_type": "code",
   "execution_count": 13,
   "metadata": {},
   "outputs": [
    {
     "name": "stdout",
     "output_type": "stream",
     "text": [
      "Married\n",
      "Avg Balance of Unmarried:    13.493509\n",
      "Avg Balance of Married:      13.388473\n",
      "Name: Balance, dtype: float64\n"
     ]
    }
   ],
   "source": [
    "# On average, do married or single people have a higher balance?\n",
    "\n",
    "higher_balance = df.groupby(\"Married\")[\"Balance\"].mean()\n",
    "higher_balance = higher_balance.rename({\"Yes\" : \"Avg Balance of Married:\" , \"No\" : \"Avg Balance of Unmarried:\"})\n",
    "\n",
    "print(higher_balance)\n"
   ]
  },
  {
   "cell_type": "code",
   "execution_count": 14,
   "metadata": {},
   "outputs": [
    {
     "name": "stdout",
     "output_type": "stream",
     "text": [
      "The highest income in our dataset is 186.634\n"
     ]
    }
   ],
   "source": [
    "# What is the highest income in our dataset?\n",
    "print(\"The highest income in our dataset is\", df.loc[:, \"Income\"].max())"
   ]
  },
  {
   "cell_type": "code",
   "execution_count": 15,
   "metadata": {},
   "outputs": [
    {
     "name": "stdout",
     "output_type": "stream",
     "text": [
      "Total number of cards recorded in our dataset is 1183\n"
     ]
    }
   ],
   "source": [
    "# How many cards do we have recorded in our dataset? \n",
    "print(\"Total number of cards recorded in our dataset is\" , df.loc[ : , \"Cards\"].sum())"
   ]
  },
  {
   "cell_type": "code",
   "execution_count": 25,
   "metadata": {},
   "outputs": [
    {
     "name": "stdout",
     "output_type": "stream",
     "text": [
      "We have total number of 207 female data\n"
     ]
    }
   ],
   "source": [
    "# How many females do we have information for vs how many males?\n",
    "female_info = df[\"Gender\"].value_counts()\n",
    "female_counts = female_info[\"Female\"]\n",
    "print(f\"We have total number of {female_counts} female data\")\n",
    "# print(f\"We have total of {female_count} females information\")"
   ]
  },
  {
   "cell_type": "code",
   "execution_count": null,
   "metadata": {},
   "outputs": [],
   "source": []
  }
 ],
 "metadata": {
  "colab": {
   "authorship_tag": "ABX9TyP5J3xG1JXUCQAkP9OLQqdU",
   "provenance": []
  },
  "kernelspec": {
   "display_name": "Python 3 (ipykernel)",
   "language": "python",
   "name": "python3"
  },
  "language_info": {
   "codemirror_mode": {
    "name": "ipython",
    "version": 3
   },
   "file_extension": ".py",
   "mimetype": "text/x-python",
   "name": "python",
   "nbconvert_exporter": "python",
   "pygments_lexer": "ipython3",
   "version": "3.10.9"
  }
 },
 "nbformat": 4,
 "nbformat_minor": 1
}
